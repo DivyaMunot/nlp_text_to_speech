{
 "cells": [
  {
   "cell_type": "code",
   "execution_count": 1,
   "metadata": {},
   "outputs": [],
   "source": [
    "#nltk - natural language toolkit"
   ]
  },
  {
   "cell_type": "code",
   "execution_count": 10,
   "metadata": {},
   "outputs": [
    {
     "name": "stderr",
     "output_type": "stream",
     "text": [
      "[nltk_data] Downloading package punkt to\n",
      "[nltk_data]     C:\\Users\\Desktop\\AppData\\Roaming\\nltk_data...\n",
      "[nltk_data]   Unzipping tokenizers\\punkt.zip.\n"
     ]
    },
    {
     "data": {
      "text/plain": [
       "True"
      ]
     },
     "execution_count": 10,
     "metadata": {},
     "output_type": "execute_result"
    }
   ],
   "source": [
    "import nltk\n",
    "nltk.download('punkt')"
   ]
  },
  {
   "cell_type": "code",
   "execution_count": 11,
   "metadata": {},
   "outputs": [],
   "source": [
    "#corpus is a large and structured set of texts, collection of text documents"
   ]
  },
  {
   "cell_type": "code",
   "execution_count": 12,
   "metadata": {},
   "outputs": [],
   "source": [
    "import nltk.corpus"
   ]
  },
  {
   "cell_type": "code",
   "execution_count": 13,
   "metadata": {},
   "outputs": [],
   "source": [
    "#Tokenization"
   ]
  },
  {
   "cell_type": "code",
   "execution_count": 14,
   "metadata": {},
   "outputs": [],
   "source": [
    "from nltk.tokenize import word_tokenize"
   ]
  },
  {
   "cell_type": "code",
   "execution_count": 15,
   "metadata": {},
   "outputs": [],
   "source": [
    "chess = \"Samay Raina is the best chess streamer in the world\""
   ]
  },
  {
   "cell_type": "code",
   "execution_count": 16,
   "metadata": {},
   "outputs": [
    {
     "data": {
      "text/plain": [
       "['Samay',\n",
       " 'Raina',\n",
       " 'is',\n",
       " 'the',\n",
       " 'best',\n",
       " 'chess',\n",
       " 'streamer',\n",
       " 'in',\n",
       " 'the',\n",
       " 'world']"
      ]
     },
     "execution_count": 16,
     "metadata": {},
     "output_type": "execute_result"
    }
   ],
   "source": [
    "word_tokenize(chess)"
   ]
  },
  {
   "cell_type": "code",
   "execution_count": 17,
   "metadata": {},
   "outputs": [],
   "source": [
    "#sentence tokenizer\n",
    "from nltk.tokenize import sent_tokenize"
   ]
  },
  {
   "cell_type": "code",
   "execution_count": 18,
   "metadata": {},
   "outputs": [],
   "source": [
    "chess2 = \"Samay Raina is the best chess streamer in the world. Sagar Shah is the best chess coach in the world\""
   ]
  },
  {
   "cell_type": "code",
   "execution_count": 19,
   "metadata": {},
   "outputs": [
    {
     "data": {
      "text/plain": [
       "['Samay Raina is the best chess streamer in the world.',\n",
       " 'Sagar Shah is the best chess coach in the world']"
      ]
     },
     "execution_count": 19,
     "metadata": {},
     "output_type": "execute_result"
    }
   ],
   "source": [
    "sent_tokenize(chess2)"
   ]
  },
  {
   "cell_type": "code",
   "execution_count": 23,
   "metadata": {},
   "outputs": [
    {
     "name": "stdout",
     "output_type": "stream",
     "text": [
      "10\n",
      "2\n"
     ]
    }
   ],
   "source": [
    "#Checking the number of tokens\n",
    "print(len(word_tokenize(chess)))\n",
    "print(len(sent_tokenize(chess2)))"
   ]
  },
  {
   "cell_type": "markdown",
   "metadata": {},
   "source": [
    "# bigrams\n",
    "Some English words occur together more frequently. For example - Sky High, do or die, best performance, heavy rain etc. So, in a text document we may need to identify such pair of words which will help in sentiment analysis. First, we need to generate such word pairs from the existing sentence maintain their current sequences. Such pairs are called bigrams. Python has a bigram function as part of NLTK library which helps us generate these pairs.\n",
    "\n",
    "# n-grams\n",
    "The item here could be words, letters, and syllables. 1-gram is also called as unigrams are the unique words present in the sentence. Bigram(2-gram) is the combination of 2 words. Trigram(3-gram) is 3 words and so on."
   ]
  },
  {
   "cell_type": "code",
   "execution_count": 24,
   "metadata": {},
   "outputs": [],
   "source": [
    "astronaut = \"Can anybody hear me or am I talking to myself? My mind is running empty in the search for someone else\""
   ]
  },
  {
   "cell_type": "code",
   "execution_count": 26,
   "metadata": {},
   "outputs": [
    {
     "data": {
      "text/plain": [
       "['Can',\n",
       " 'anybody',\n",
       " 'hear',\n",
       " 'me',\n",
       " 'or',\n",
       " 'am',\n",
       " 'I',\n",
       " 'talking',\n",
       " 'to',\n",
       " 'myself',\n",
       " '?',\n",
       " 'My',\n",
       " 'mind',\n",
       " 'is',\n",
       " 'running',\n",
       " 'empty',\n",
       " 'in',\n",
       " 'the',\n",
       " 'search',\n",
       " 'for',\n",
       " 'someone',\n",
       " 'else']"
      ]
     },
     "execution_count": 26,
     "metadata": {},
     "output_type": "execute_result"
    }
   ],
   "source": [
    "astronaut_token=(word_tokenize(astronaut))\n",
    "astronaut_token"
   ]
  },
  {
   "cell_type": "code",
   "execution_count": 27,
   "metadata": {},
   "outputs": [
    {
     "data": {
      "text/plain": [
       "[('Can', 'anybody'),\n",
       " ('anybody', 'hear'),\n",
       " ('hear', 'me'),\n",
       " ('me', 'or'),\n",
       " ('or', 'am'),\n",
       " ('am', 'I'),\n",
       " ('I', 'talking'),\n",
       " ('talking', 'to'),\n",
       " ('to', 'myself'),\n",
       " ('myself', '?'),\n",
       " ('?', 'My'),\n",
       " ('My', 'mind'),\n",
       " ('mind', 'is'),\n",
       " ('is', 'running'),\n",
       " ('running', 'empty'),\n",
       " ('empty', 'in'),\n",
       " ('in', 'the'),\n",
       " ('the', 'search'),\n",
       " ('search', 'for'),\n",
       " ('for', 'someone'),\n",
       " ('someone', 'else')]"
      ]
     },
     "execution_count": 27,
     "metadata": {},
     "output_type": "execute_result"
    }
   ],
   "source": [
    "list(nltk.bigrams(astronaut_token))"
   ]
  },
  {
   "cell_type": "code",
   "execution_count": 28,
   "metadata": {},
   "outputs": [
    {
     "data": {
      "text/plain": [
       "[('Can', 'anybody', 'hear'),\n",
       " ('anybody', 'hear', 'me'),\n",
       " ('hear', 'me', 'or'),\n",
       " ('me', 'or', 'am'),\n",
       " ('or', 'am', 'I'),\n",
       " ('am', 'I', 'talking'),\n",
       " ('I', 'talking', 'to'),\n",
       " ('talking', 'to', 'myself'),\n",
       " ('to', 'myself', '?'),\n",
       " ('myself', '?', 'My'),\n",
       " ('?', 'My', 'mind'),\n",
       " ('My', 'mind', 'is'),\n",
       " ('mind', 'is', 'running'),\n",
       " ('is', 'running', 'empty'),\n",
       " ('running', 'empty', 'in'),\n",
       " ('empty', 'in', 'the'),\n",
       " ('in', 'the', 'search'),\n",
       " ('the', 'search', 'for'),\n",
       " ('search', 'for', 'someone'),\n",
       " ('for', 'someone', 'else')]"
      ]
     },
     "execution_count": 28,
     "metadata": {},
     "output_type": "execute_result"
    }
   ],
   "source": [
    "list(nltk.trigrams(astronaut_token))"
   ]
  },
  {
   "cell_type": "code",
   "execution_count": 29,
   "metadata": {},
   "outputs": [
    {
     "data": {
      "text/plain": [
       "[('Can', 'anybody', 'hear', 'me', 'or'),\n",
       " ('anybody', 'hear', 'me', 'or', 'am'),\n",
       " ('hear', 'me', 'or', 'am', 'I'),\n",
       " ('me', 'or', 'am', 'I', 'talking'),\n",
       " ('or', 'am', 'I', 'talking', 'to'),\n",
       " ('am', 'I', 'talking', 'to', 'myself'),\n",
       " ('I', 'talking', 'to', 'myself', '?'),\n",
       " ('talking', 'to', 'myself', '?', 'My'),\n",
       " ('to', 'myself', '?', 'My', 'mind'),\n",
       " ('myself', '?', 'My', 'mind', 'is'),\n",
       " ('?', 'My', 'mind', 'is', 'running'),\n",
       " ('My', 'mind', 'is', 'running', 'empty'),\n",
       " ('mind', 'is', 'running', 'empty', 'in'),\n",
       " ('is', 'running', 'empty', 'in', 'the'),\n",
       " ('running', 'empty', 'in', 'the', 'search'),\n",
       " ('empty', 'in', 'the', 'search', 'for'),\n",
       " ('in', 'the', 'search', 'for', 'someone'),\n",
       " ('the', 'search', 'for', 'someone', 'else')]"
      ]
     },
     "execution_count": 29,
     "metadata": {},
     "output_type": "execute_result"
    }
   ],
   "source": [
    "list(nltk.ngrams(astronaut_token,5))"
   ]
  },
  {
   "cell_type": "markdown",
   "metadata": {},
   "source": [
    "# Stemming\n",
    "Stemming is the process of producing morphological variants of a root/base word. Stemming programs are commonly referred to as stemming algorithms or stemmers. A stemming algorithm reduces the words “chocolates”, “chocolatey”, “choco” to the root word, “chocolate” and “retrieval”, “retrieved”, “retrieves” reduce to the stem “retrieve”."
   ]
  },
  {
   "cell_type": "code",
   "execution_count": 31,
   "metadata": {},
   "outputs": [],
   "source": [
    "from nltk.stem import PorterStemmer"
   ]
  },
  {
   "cell_type": "code",
   "execution_count": 32,
   "metadata": {},
   "outputs": [],
   "source": [
    "my_stem = PorterStemmer()"
   ]
  },
  {
   "cell_type": "code",
   "execution_count": 33,
   "metadata": {},
   "outputs": [
    {
     "data": {
      "text/plain": [
       "'eat'"
      ]
     },
     "execution_count": 33,
     "metadata": {},
     "output_type": "execute_result"
    }
   ],
   "source": [
    "my_stem.stem(\"eating\")"
   ]
  },
  {
   "cell_type": "code",
   "execution_count": 34,
   "metadata": {},
   "outputs": [
    {
     "data": {
      "text/plain": [
       "'go'"
      ]
     },
     "execution_count": 34,
     "metadata": {},
     "output_type": "execute_result"
    }
   ],
   "source": [
    "my_stem.stem(\"going\")"
   ]
  },
  {
   "cell_type": "code",
   "execution_count": 38,
   "metadata": {},
   "outputs": [
    {
     "data": {
      "text/plain": [
       "'shop'"
      ]
     },
     "execution_count": 38,
     "metadata": {},
     "output_type": "execute_result"
    }
   ],
   "source": [
    "my_stem.stem(\"shopping\")"
   ]
  },
  {
   "cell_type": "code",
   "execution_count": 39,
   "metadata": {},
   "outputs": [],
   "source": [
    "#pos-tagging - tag each token with a particular parts of speech"
   ]
  },
  {
   "cell_type": "code",
   "execution_count": 40,
   "metadata": {},
   "outputs": [],
   "source": [
    "tom =\"Tom Hanks is the best actor in the world\""
   ]
  },
  {
   "cell_type": "code",
   "execution_count": 41,
   "metadata": {},
   "outputs": [],
   "source": [
    "tom_token = word_tokenize(tom)"
   ]
  },
  {
   "cell_type": "code",
   "execution_count": 43,
   "metadata": {},
   "outputs": [
    {
     "name": "stderr",
     "output_type": "stream",
     "text": [
      "[nltk_data] Downloading package averaged_perceptron_tagger to\n",
      "[nltk_data]     C:\\Users\\Desktop\\AppData\\Roaming\\nltk_data...\n",
      "[nltk_data]   Unzipping taggers\\averaged_perceptron_tagger.zip.\n"
     ]
    },
    {
     "data": {
      "text/plain": [
       "[('Tom', 'NNP'),\n",
       " ('Hanks', 'NNP'),\n",
       " ('is', 'VBZ'),\n",
       " ('the', 'DT'),\n",
       " ('best', 'JJS'),\n",
       " ('actor', 'NN'),\n",
       " ('in', 'IN'),\n",
       " ('the', 'DT'),\n",
       " ('world', 'NN')]"
      ]
     },
     "execution_count": 43,
     "metadata": {},
     "output_type": "execute_result"
    }
   ],
   "source": [
    "nltk.download('averaged_perceptron_tagger')\n",
    "nltk.pos_tag(tom_token)"
   ]
  },
  {
   "cell_type": "code",
   "execution_count": 44,
   "metadata": {},
   "outputs": [],
   "source": [
    "# NNP - proper noun\n",
    "# VBZ - verb\n",
    "# DT - determiner\n",
    "# JJS - superlative adjective\n",
    "# NN - noun"
   ]
  },
  {
   "cell_type": "code",
   "execution_count": 45,
   "metadata": {},
   "outputs": [],
   "source": [
    "#Named entity recognition"
   ]
  },
  {
   "cell_type": "code",
   "execution_count": 46,
   "metadata": {},
   "outputs": [],
   "source": [
    "from nltk import ne_chunk"
   ]
  },
  {
   "cell_type": "code",
   "execution_count": 47,
   "metadata": {},
   "outputs": [],
   "source": [
    "president = \"Barack Obama was the 44th President of America\""
   ]
  },
  {
   "cell_type": "code",
   "execution_count": 48,
   "metadata": {},
   "outputs": [],
   "source": [
    "president_token = word_tokenize(president)"
   ]
  },
  {
   "cell_type": "code",
   "execution_count": 49,
   "metadata": {},
   "outputs": [],
   "source": [
    "president_pos = nltk.pos_tag(president_token)"
   ]
  },
  {
   "cell_type": "code",
   "execution_count": 52,
   "metadata": {},
   "outputs": [
    {
     "name": "stderr",
     "output_type": "stream",
     "text": [
      "[nltk_data] Downloading package maxent_ne_chunker to\n",
      "[nltk_data]     C:\\Users\\Desktop\\AppData\\Roaming\\nltk_data...\n",
      "[nltk_data]   Package maxent_ne_chunker is already up-to-date!\n",
      "[nltk_data] Downloading package words to\n",
      "[nltk_data]     C:\\Users\\Desktop\\AppData\\Roaming\\nltk_data...\n"
     ]
    },
    {
     "name": "stdout",
     "output_type": "stream",
     "text": [
      "(S\n",
      "  (PERSON Barack/NNP)\n",
      "  (PERSON Obama/NNP)\n",
      "  was/VBD\n",
      "  the/DT\n",
      "  44th/JJ\n",
      "  President/NNP\n",
      "  of/IN\n",
      "  (GPE America/NNP))\n"
     ]
    },
    {
     "name": "stderr",
     "output_type": "stream",
     "text": [
      "[nltk_data]   Unzipping corpora\\words.zip.\n"
     ]
    }
   ],
   "source": [
    "nltk.download('maxent_ne_chunker')\n",
    "nltk.download('words')\n",
    "print(ne_chunk(president_pos))"
   ]
  },
  {
   "cell_type": "markdown",
   "metadata": {},
   "source": [
    "# gtts\n",
    "Google Text-to-Speech. Python library and CLI tool to interface with Google Translate’s text-to-speech API. "
   ]
  },
  {
   "cell_type": "code",
   "execution_count": 74,
   "metadata": {},
   "outputs": [
    {
     "data": {
      "text/html": [
       "\n",
       "                <audio  controls=\"controls\" autoplay=\"autoplay\">\n",
       "                    <source src=\"data:audio/wav;base64,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\" type=\"audio/wav\" />\n",
       "                    Your browser does not support the audio element.\n",
       "                </audio>\n",
       "              "
      ],
      "text/plain": [
       "<IPython.lib.display.Audio object>"
      ]
     },
     "execution_count": 74,
     "metadata": {},
     "output_type": "execute_result"
    }
   ],
   "source": [
    "from gtts import gTTS\n",
    "from IPython.display import Audio\n",
    "tts = gTTS(text = 'Can anybody hear me or am I talking to myself? My mind is running empty in the search for someone else', lang='en')\n",
    "tts.save('1.wav')\n",
    "sound_file = '1.wav'\n",
    "Audio(sound_file, autoplay=True)"
   ]
  }
 ],
 "metadata": {
  "kernelspec": {
   "display_name": "Python 3",
   "language": "python",
   "name": "python3"
  },
  "language_info": {
   "codemirror_mode": {
    "name": "ipython",
    "version": 3
   },
   "file_extension": ".py",
   "mimetype": "text/x-python",
   "name": "python",
   "nbconvert_exporter": "python",
   "pygments_lexer": "ipython3",
   "version": "3.7.6"
  }
 },
 "nbformat": 4,
 "nbformat_minor": 2
}
